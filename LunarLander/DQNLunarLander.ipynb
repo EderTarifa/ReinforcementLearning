{
 "cells": [
  {
   "cell_type": "markdown",
   "metadata": {
    "id": "8TT3LPGc5PuK"
   },
   "source": [
    "\n",
    "\n",
    "<p><img height=\"80px\" src=\"https://www.upm.es/sfs/Rectorado/Gabinete%20del%20Rector/Logos/UPM/Escudo/EscUpm.jpg\" align=\"left\" hspace=\"0px\" vspace=\"0px\"></p>\n",
    "\n",
    "**Universidad Politécnica de Madrid (UPM)**\n",
    "\n",
    "# **Deep Q-Learning for Lunar Lander**\n",
    "\n",
    "This notebook includes an implementation of the Deep Q-learning (DQN) algorithm for the lunar lander problem (see [Lunar Lander documentation](https://gymnasium.farama.org/environments/box2d/lunar_lander/)).\n"
   ]
  },
  {
   "cell_type": "markdown",
   "metadata": {
    "id": "jdM9eD5P5TpS"
   },
   "source": [
    "AUTHORS:\n",
    "- Eder Tarifa\n",
    "- Adonis García\n",
    "- Mario García"
   ]
  },
  {
   "cell_type": "markdown",
   "metadata": {
    "id": "7reAJDScO9-R"
   },
   "source": [
    "Para ejecutar el notebook hemos utilizado la CPU de Google Colab."
   ]
  },
  {
   "cell_type": "markdown",
   "metadata": {
    "id": "nBrRuhN1AQ-s"
   },
   "source": [
    "## Hyperparameters"
   ]
  },
  {
   "cell_type": "code",
   "execution_count": null,
   "metadata": {
    "id": "4N2yVwtuFlBu"
   },
   "outputs": [],
   "source": [
    "GAMMA = 0.99\n",
    "MEMORY_SIZE = 50000\n",
    "LEARNING_RATE = 0.0001\n",
    "BATCH_SIZE = 64\n",
    "EXPLORATION_MAX = 1\n",
    "EXPLORATION_MIN = 0.01\n",
    "EXPLORATION_DECAY = 0.95\n",
    "MAX_NUMBER_OF_EPISODES_FOR_TRAINING = 600\n",
    "NUMBER_OF_EPISODES_FOR_TESTING = 30\n",
    "GOAL_SCORE = 200\n",
    "NUMBER_OF_EPISODES_FOR_TESTING_GOAL_SCORE = 30\n",
    "LEARN_BATCH = 30"
   ]
  },
  {
   "cell_type": "markdown",
   "metadata": {
    "id": "5kHsETE9Bfdx"
   },
   "source": [
    "CHANGES IN THE ALGORITHM:\n",
    "\n",
    "We have implemented three major changes to the algorithm to both reduce training time and achieve better results.\n",
    "\n",
    "1. First, we modified the memory code to allow for a smaller memory size. Now, when the memory fills up, it overwrites the oldest data instead of simply reaching capacity. This change offers two main advantages: it enables us to reduce memory size and increases the algorithm’s speed, as it overwrites information from early iterations (when the neural networks were not yet trained) with information from later iterations (when the networks are expected to predict more reliably).\n",
    "\n",
    "2. Second, we modified our neural network, now consisting of two hidden layers, and created a second network identical to the first, which is responsible for predicting outputs in the learning function. This change aims to reduce learning time by providing greater stability, as this second network does not learn in every iteration, leading to more stable predictions that the first network can then use for learning. Without this adjustment, the network struggles to converge to a solution, as it would otherwise learn based on predictions made with weights that change at every iteration.\n",
    "\n",
    "3. Complementing the previous change, and to make it effective, we modified the code by adding a new hyperparameter named LEARN_BATCH. This parameter represents the number of transitions that must pass before the weights of the second neural network are updated with the weights from the first."
   ]
  },
  {
   "cell_type": "markdown",
   "metadata": {
    "id": "lToC431jHpXZ"
   },
   "source": [
    "To run the notebook, we used the Google Colab CPU."
   ]
  },
  {
   "cell_type": "markdown",
   "metadata": {
    "id": "OoGaas6TAd6p"
   },
   "source": [
    "## Class ReplayMemory\n",
    "\n",
    "Memory of transitions for experience replay."
   ]
  },
  {
   "cell_type": "code",
   "execution_count": null,
   "metadata": {
    "id": "cQV7IfhFOoSh"
   },
   "outputs": [],
   "source": [
    "class ReplayMemory:\n",
    "\n",
    "    def __init__(self,number_of_observations):\n",
    "        # Create replay memory\n",
    "        self.states = np.zeros((MEMORY_SIZE, number_of_observations))\n",
    "        self.states_next = np.zeros((MEMORY_SIZE, number_of_observations))\n",
    "        self.actions = np.zeros(MEMORY_SIZE, dtype=np.int32)\n",
    "        self.rewards = np.zeros(MEMORY_SIZE)\n",
    "        self.terminal_states = np.zeros(MEMORY_SIZE, dtype=bool)\n",
    "        self.current_size=0\n",
    "\n",
    "    def store_transition(self, state, action, reward, state_next, terminal_state):\n",
    "        # Store a transition (s,a,r,s') in the replay memory\n",
    "        i = self.current_size % MEMORY_SIZE\n",
    "        self.states[i] = state\n",
    "        self.states_next[i] = state_next\n",
    "        self.actions[i] = action\n",
    "        self.rewards[i] = reward\n",
    "        self.terminal_states[i] = terminal_state\n",
    "        self.current_size = i + 1\n",
    "\n",
    "    def sample_memory(self, batch_size):\n",
    "        # Generate a sample of transitions from the replay memory\n",
    "        batch = np.random.choice(self.current_size, batch_size)\n",
    "        states = self.states[batch]\n",
    "        states_next = self.states_next[batch]\n",
    "        rewards = self.rewards[batch]\n",
    "        actions = self.actions[batch]\n",
    "        terminal_states = self.terminal_states[batch]\n",
    "        return states, actions, rewards, states_next, terminal_states"
   ]
  },
  {
   "cell_type": "markdown",
   "metadata": {
    "id": "gejKO0OYAsS4"
   },
   "source": [
    "## Class DQN\n",
    "\n",
    "Reinforcement learning agent with a Deep Q-Network."
   ]
  },
  {
   "cell_type": "code",
   "execution_count": null,
   "metadata": {
    "id": "NZ6P4Gj0FtnU"
   },
   "outputs": [],
   "source": [
    "class DQN:\n",
    "\n",
    "    def __init__(self, number_of_observations, number_of_actions):\n",
    "        # Initialize variables and create neural model\n",
    "        self.number_of_actions = number_of_actions\n",
    "        self.number_of_observations = number_of_observations\n",
    "        self.scores = []\n",
    "        self.memory = ReplayMemory(number_of_observations)\n",
    "\n",
    "        # Neural model\n",
    "        self.model = keras.models.Sequential()\n",
    "        self.model.add(keras.layers.Dense(24, input_shape=(number_of_observations,), \\\n",
    "                             activation=\"relu\",kernel_initializer=\"he_normal\"))\n",
    "        self.model.add(keras.layers.Dense(120, activation=\"relu\",kernel_initializer=\"he_normal\"))\n",
    "        self.model.add(keras.layers.Dense(120, activation=\"relu\",kernel_initializer=\"he_normal\"))\n",
    "        self.model.add(keras.layers.Dense(number_of_actions, activation=\"linear\"))\n",
    "        self.model.compile(loss=\"mse\", optimizer=keras.optimizers.Adam(learning_rate=LEARNING_RATE))\n",
    "\n",
    "        # Neural model target\n",
    "        self.model_target = keras.models.Sequential()\n",
    "        self.model_target.add(keras.layers.Dense(24, input_shape=(number_of_observations,), \\\n",
    "                             activation=\"relu\",kernel_initializer=\"he_normal\"))\n",
    "        self.model_target.add(keras.layers.Dense(120, activation=\"relu\",kernel_initializer=\"he_normal\"))\n",
    "        self.model_target.add(keras.layers.Dense(120, activation=\"relu\",kernel_initializer=\"he_normal\"))\n",
    "        self.model_target.add(keras.layers.Dense(number_of_actions, activation=\"linear\"))\n",
    "        self.model_target.compile(loss=\"mse\", optimizer=keras.optimizers.Adam(learning_rate=LEARNING_RATE))\n",
    "\n",
    "        # self.model_target.set_weights(self.model.get_weights)\n",
    "\n",
    "    def remember(self, state, action, reward, next_state, terminal_state):\n",
    "        # Store a tuple (s, a, r, s') for experience replay\n",
    "        state = np.reshape(state, [1, self.number_of_observations])\n",
    "        next_state = np.reshape(next_state, [1, self.number_of_observations])\n",
    "        self.memory.store_transition(state, action, reward, next_state, terminal_state)\n",
    "\n",
    "    def select(self, state, exploration_rate):\n",
    "        # Generate an action for a given state using epsilon-greedy policy\n",
    "        if np.random.rand() < exploration_rate:\n",
    "            return random.randrange(self.number_of_actions)\n",
    "        else:\n",
    "            state = np.reshape(state, [1, self.number_of_observations])\n",
    "            q_values = self.model(state).numpy()\n",
    "            return np.argmax(q_values[0])\n",
    "\n",
    "    def select_greedy_policy(self, state):\n",
    "        # Generate an action for a given state using greedy policy\n",
    "        state = np.reshape(state, [1, self.number_of_observations])\n",
    "        q_values = self.model(state).numpy()\n",
    "        return np.argmax(q_values[0])\n",
    "\n",
    "    def learn(self, learn : bool):\n",
    "        # Learn the value Q using a sample of examples from the replay memory\n",
    "        if self.memory.current_size < BATCH_SIZE: return\n",
    "\n",
    "        states, actions, rewards, next_states, terminal_states = self.memory.sample_memory(BATCH_SIZE)\n",
    "\n",
    "        q_targets = self.model_target(states).numpy()\n",
    "        q_next_states = self.model_target(next_states).numpy()\n",
    "\n",
    "        for i in range(BATCH_SIZE):\n",
    "             if (terminal_states[i]):\n",
    "                  q_targets[i][actions[i]] = rewards[i]\n",
    "             else:\n",
    "                  q_targets[i][actions[i]] = rewards[i] + GAMMA * np.max(q_next_states[i])\n",
    "\n",
    "        self.model.train_on_batch(states, q_targets)\n",
    "\n",
    "        if learn:\n",
    "          # print(\"Weights has been updated\")\n",
    "          weights = self.model.get_weights()\n",
    "          self.model_target.set_weights(weights)\n",
    "\n",
    "    def add_score(self, score):\n",
    "        # Add the obtained score to a list to be presented later\n",
    "        self.scores.append(score)\n",
    "\n",
    "    def delete_scores(self):\n",
    "        # Delete the scores\n",
    "        self.scores = []\n",
    "\n",
    "    def average_score(self, number_of_episodes):\n",
    "        # Compute average score of the last episodes\n",
    "        index = len(agent.scores) - number_of_episodes\n",
    "        return np.mean(self.scores[max(0,index):(len(agent.scores))])\n",
    "\n",
    "    def display_scores_graphically(self):\n",
    "        # Display the obtained scores graphically\n",
    "        plt.plot(self.scores)\n",
    "        plt.xlabel(\"Episode\")\n",
    "        plt.ylabel(\"Score\")"
   ]
  },
  {
   "cell_type": "markdown",
   "metadata": {
    "id": "d-YSpziT0K9I"
   },
   "source": [
    "## Environment Lunar Lander\n",
    "\n",
    "---\n",
    "\n",
    "<img height=\"200px\" src=\"https://gymnasium.farama.org/_images/lunar_lander.gif\" align=\"center\" vspace=\"20px\">\n",
    "\n",
    "State vector:\n",
    "- state[0]: lander x coordinate\n",
    "- state[1]: lander y coordinate\n",
    "- state[2]: lander x linear velocity\n",
    "- state[3]: lander y linear velocity\n",
    "- state[4]: lander x angular velocity\n",
    "- state[5]: lander y angular velocity\n",
    "- state[6]: lander leg connected to ground\n",
    "- state[7]: lander other leg connected to ground\n",
    "\n",
    "Actions:\n",
    "- 0 (do nothing)\n",
    "- 1 (fire left orientation engine)\n",
    "- 2 (fire main engine)\n",
    "- 3 (fire right orientation engine)"
   ]
  },
  {
   "cell_type": "code",
   "execution_count": null,
   "metadata": {
    "id": "4LBloUSG0LmT"
   },
   "outputs": [],
   "source": [
    "def create_environment():\n",
    "    # Create simulated environment\n",
    "    environment = gym.make(\"LunarLander-v2\")\n",
    "    number_of_observations = environment.observation_space.shape[0]\n",
    "    number_of_actions = environment.action_space.n\n",
    "    return environment, number_of_observations, number_of_actions"
   ]
  },
  {
   "cell_type": "markdown",
   "metadata": {
    "id": "hbbw6blhDcsJ"
   },
   "source": [
    "## Program for training\n",
    "\n",
    "\n"
   ]
  },
  {
   "cell_type": "code",
   "execution_count": null,
   "metadata": {
    "colab": {
     "base_uri": "https://localhost:8080/",
     "height": 1000
    },
    "id": "yuzI0m5u5vVf",
    "outputId": "1c9aef7f-f5a9-4f59-e622-8a21ed0fa703"
   },
   "outputs": [
    {
     "name": "stdout",
     "output_type": "stream",
     "text": [
      "Episode   1: score -11 (exploration rate: 1.000, average score: -11, transitions: 114)\n",
      "Episode   2: score -358 (exploration rate: 0.950, average score: -185, transitions: 227)\n",
      "Episode   3: score -147 (exploration rate: 0.902, average score: -172, transitions: 358)\n",
      "Episode   4: score -174 (exploration rate: 0.857, average score: -173, transitions: 438)\n",
      "Episode   5: score -234 (exploration rate: 0.815, average score: -185, transitions: 536)\n",
      "Episode   6: score -89 (exploration rate: 0.774, average score: -169, transitions: 624)\n",
      "Episode   7: score -285 (exploration rate: 0.735, average score: -186, transitions: 756)\n",
      "Episode   8: score -265 (exploration rate: 0.698, average score: -196, transitions: 891)\n",
      "Episode   9: score -188 (exploration rate: 0.663, average score: -195, transitions: 1016)\n",
      "Episode  10: score -111 (exploration rate: 0.630, average score: -187, transitions: 1143)\n",
      "Episode  11: score -190 (exploration rate: 0.599, average score: -187, transitions: 1275)\n",
      "Episode  12: score -196 (exploration rate: 0.569, average score: -188, transitions: 1429)\n",
      "Episode  13: score -192 (exploration rate: 0.540, average score: -188, transitions: 1698)\n",
      "Episode  14: score -184 (exploration rate: 0.513, average score: -188, transitions: 1841)\n",
      "Episode  15: score -105 (exploration rate: 0.488, average score: -182, transitions: 2029)\n",
      "Episode  16: score -276 (exploration rate: 0.463, average score: -188, transitions: 2255)\n",
      "Episode  17: score -79 (exploration rate: 0.440, average score: -182, transitions: 2417)\n",
      "Episode  18: score -321 (exploration rate: 0.418, average score: -190, transitions: 2668)\n",
      "Episode  19: score  -4 (exploration rate: 0.397, average score: -180, transitions: 3098)\n",
      "Episode  20: score -159 (exploration rate: 0.377, average score: -179, transitions: 3317)\n",
      "Episode  21: score -16 (exploration rate: 0.358, average score: -171, transitions: 3530)\n",
      "Episode  22: score -280 (exploration rate: 0.341, average score: -176, transitions: 3914)\n",
      "Episode  23: score -168 (exploration rate: 0.324, average score: -176, transitions: 4042)\n",
      "Episode  24: score -52 (exploration rate: 0.307, average score: -171, transitions: 5042)\n",
      "Episode  25: score -57 (exploration rate: 0.292, average score: -166, transitions: 6042)\n",
      "Episode  26: score   0 (exploration rate: 0.277, average score: -160, transitions: 6446)\n",
      "Episode  27: score -227 (exploration rate: 0.264, average score: -162, transitions: 7442)\n",
      "Episode  28: score -53 (exploration rate: 0.250, average score: -158, transitions: 8442)\n",
      "Episode  29: score -33 (exploration rate: 0.238, average score: -154, transitions: 9442)\n",
      "Episode  30: score  23 (exploration rate: 0.226, average score: -148, transitions: 10442)\n",
      "Episode  31: score -26 (exploration rate: 0.215, average score: -149, transitions: 11442)\n",
      "Episode  32: score  48 (exploration rate: 0.204, average score: -135, transitions: 12442)\n",
      "Episode  33: score -68 (exploration rate: 0.194, average score: -132, transitions: 13442)\n",
      "Episode  34: score 176 (exploration rate: 0.184, average score: -121, transitions: 14077)\n",
      "Episode  35: score -257 (exploration rate: 0.175, average score: -122, transitions: 14737)\n",
      "Episode  36: score -180 (exploration rate: 0.166, average score: -125, transitions: 15449)\n",
      "Episode  37: score -76 (exploration rate: 0.158, average score: -118, transitions: 16449)\n",
      "Episode  38: score  -9 (exploration rate: 0.150, average score: -109, transitions: 17449)\n",
      "Episode  39: score -191 (exploration rate: 0.142, average score: -109, transitions: 18073)\n",
      "Episode  40: score -17 (exploration rate: 0.135, average score: -106, transitions: 18563)\n",
      "Episode  41: score -88 (exploration rate: 0.129, average score: -103, transitions: 18820)\n",
      "Episode  42: score 128 (exploration rate: 0.122, average score: -92, transitions: 19786)\n",
      "Episode  43: score  34 (exploration rate: 0.116, average score: -84, transitions: 20786)\n",
      "Episode  44: score -88 (exploration rate: 0.110, average score: -81, transitions: 21059)\n",
      "Episode  45: score -137 (exploration rate: 0.105, average score: -82, transitions: 21434)\n",
      "Episode  46: score -84 (exploration rate: 0.099, average score: -76, transitions: 21914)\n",
      "Episode  47: score -73 (exploration rate: 0.094, average score: -75, transitions: 22914)\n",
      "Episode  48: score -44 (exploration rate: 0.090, average score: -66, transitions: 23149)\n",
      "Episode  49: score -95 (exploration rate: 0.085, average score: -69, transitions: 23511)\n",
      "Episode  50: score 194 (exploration rate: 0.081, average score: -57, transitions: 23930)\n",
      "Episode  51: score  62 (exploration rate: 0.077, average score: -55, transitions: 24930)\n",
      "Episode  52: score -82 (exploration rate: 0.073, average score: -48, transitions: 25159)\n",
      "Episode  53: score -259 (exploration rate: 0.069, average score: -51, transitions: 26029)\n",
      "Episode  54: score -32 (exploration rate: 0.066, average score: -51, transitions: 27029)\n",
      "Episode  55: score -61 (exploration rate: 0.063, average score: -51, transitions: 27281)\n",
      "Episode  56: score -44 (exploration rate: 0.060, average score: -52, transitions: 28281)\n",
      "Episode  57: score  24 (exploration rate: 0.057, average score: -44, transitions: 29281)\n",
      "Episode  58: score -59 (exploration rate: 0.054, average score: -44, transitions: 30281)\n",
      "Episode  59: score -105 (exploration rate: 0.051, average score: -46, transitions: 30538)\n",
      "Episode  60: score  -6 (exploration rate: 0.048, average score: -47, transitions: 31538)\n",
      "Episode  61: score -32 (exploration rate: 0.046, average score: -48, transitions: 32538)\n",
      "Episode  62: score -184 (exploration rate: 0.044, average score: -55, transitions: 33082)\n",
      "Episode  63: score -18 (exploration rate: 0.042, average score: -54, transitions: 34082)\n",
      "Episode  64: score -100 (exploration rate: 0.039, average score: -63, transitions: 35082)\n",
      "Episode  65: score -104 (exploration rate: 0.038, average score: -58, transitions: 35553)\n",
      "Episode  66: score -136 (exploration rate: 0.036, average score: -56, transitions: 35954)\n",
      "Episode  67: score  -5 (exploration rate: 0.034, average score: -54, transitions: 36954)\n",
      "Episode  68: score -197 (exploration rate: 0.032, average score: -60, transitions: 37759)\n",
      "Episode  69: score -55 (exploration rate: 0.031, average score: -56, transitions: 38759)\n",
      "Episode  70: score -126 (exploration rate: 0.029, average score: -59, transitions: 39437)\n",
      "Episode  71: score -110 (exploration rate: 0.028, average score: -60, transitions: 40213)\n",
      "Episode  72: score  -3 (exploration rate: 0.026, average score: -64, transitions: 41213)\n",
      "Episode  73: score -35 (exploration rate: 0.025, average score: -67, transitions: 42213)\n",
      "Episode  74: score 252 (exploration rate: 0.024, average score: -55, transitions: 42717)\n",
      "Episode  75: score -43 (exploration rate: 0.022, average score: -52, transitions: 43717)\n",
      "Episode  76: score 177 (exploration rate: 0.021, average score: -44, transitions: 44417)\n",
      "Episode  77: score -33 (exploration rate: 0.020, average score: -42, transitions: 45417)\n",
      "Episode  78: score  13 (exploration rate: 0.019, average score: -40, transitions: 46417)\n",
      "Episode  79: score -48 (exploration rate: 0.018, average score: -39, transitions: 47417)\n",
      "Episode  80: score 157 (exploration rate: 0.017, average score: -40, transitions: 48344)\n",
      "Episode  81: score  -4 (exploration rate: 0.017, average score: -42, transitions: 49344)\n",
      "Episode  82: score  -8 (exploration rate: 0.016, average score: -40, transitions: 344)\n",
      "Episode  83: score  27 (exploration rate: 0.015, average score: -30, transitions: 1344)\n",
      "Episode  84: score 196 (exploration rate: 0.014, average score: -23, transitions: 2165)\n",
      "Episode  85: score -28 (exploration rate: 0.013, average score: -22, transitions: 3165)\n",
      "Episode  86: score -108 (exploration rate: 0.013, average score: -24, transitions: 4165)\n",
      "Episode  87: score -13 (exploration rate: 0.012, average score: -25, transitions: 5165)\n",
      "Episode  88: score 163 (exploration rate: 0.012, average score: -17, transitions: 5986)\n",
      "Episode  89: score 121 (exploration rate: 0.011, average score: -10, transitions: 6895)\n",
      "Episode  90: score -76 (exploration rate: 0.010, average score: -12, transitions: 7895)\n",
      "Episode  91: score 207 (exploration rate: 0.010, average score:  -4, transitions: 8436)\n",
      "Episode  92: score 221 (exploration rate: 0.010, average score:   9, transitions: 8962)\n",
      "Episode  93: score 220 (exploration rate: 0.010, average score:  17, transitions: 9477)\n",
      "Episode  94: score 213 (exploration rate: 0.010, average score:  28, transitions: 9992)\n",
      "Episode  95: score 261 (exploration rate: 0.010, average score:  40, transitions: 10360)\n",
      "Episode  96: score 165 (exploration rate: 0.010, average score:  50, transitions: 10913)\n",
      "Episode  97: score -36 (exploration rate: 0.010, average score:  49, transitions: 11451)\n",
      "Episode  98: score 220 (exploration rate: 0.010, average score:  63, transitions: 11847)\n",
      "Episode  99: score 212 (exploration rate: 0.010, average score:  72, transitions: 12401)\n",
      "Episode 100: score 228 (exploration rate: 0.010, average score:  84, transitions: 12897)\n",
      "Episode 101: score 263 (exploration rate: 0.010, average score:  96, transitions: 13240)\n",
      "Episode 102: score 230 (exploration rate: 0.010, average score: 104, transitions: 13756)\n",
      "Episode 103: score 158 (exploration rate: 0.010, average score: 110, transitions: 14725)\n",
      "Episode 104: score 253 (exploration rate: 0.010, average score: 110, transitions: 15109)\n",
      "Episode 105: score 200 (exploration rate: 0.010, average score: 119, transitions: 15565)\n",
      "Episode 106: score 207 (exploration rate: 0.010, average score: 120, transitions: 16142)\n",
      "Episode 107: score 199 (exploration rate: 0.010, average score: 127, transitions: 16648)\n",
      "Episode 108: score -47 (exploration rate: 0.010, average score: 125, transitions: 16851)\n",
      "Episode 109: score 217 (exploration rate: 0.010, average score: 134, transitions: 17355)\n",
      "Episode 110: score 258 (exploration rate: 0.010, average score: 138, transitions: 17798)\n",
      "Episode 111: score 290 (exploration rate: 0.010, average score: 147, transitions: 18311)\n",
      "Episode 112: score 259 (exploration rate: 0.010, average score: 156, transitions: 18750)\n",
      "Episode 113: score 171 (exploration rate: 0.010, average score: 161, transitions: 19257)\n",
      "Episode 114: score 167 (exploration rate: 0.010, average score: 160, transitions: 19935)\n",
      "Episode 115: score 233 (exploration rate: 0.010, average score: 169, transitions: 20601)\n",
      "Episode 116: score 206 (exploration rate: 0.010, average score: 179, transitions: 21140)\n",
      "Episode 117: score  72 (exploration rate: 0.010, average score: 182, transitions: 22093)\n",
      "Episode 118: score -76 (exploration rate: 0.010, average score: 174, transitions: 22534)\n",
      "Episode 119: score 239 (exploration rate: 0.010, average score: 178, transitions: 23038)\n",
      "Episode 120: score 210 (exploration rate: 0.010, average score: 188, transitions: 23488)\n",
      "Episode 121: score 206 (exploration rate: 0.010, average score: 188, transitions: 24005)\n",
      "Episode 122: score 217 (exploration rate: 0.010, average score: 188, transitions: 24374)\n",
      "Episode 123: score 256 (exploration rate: 0.010, average score: 189, transitions: 24815)\n",
      "Episode 124: score 230 (exploration rate: 0.010, average score: 189, transitions: 25282)\n",
      "Episode 125: score 218 (exploration rate: 0.010, average score: 188, transitions: 25769)\n",
      "Episode 126: score 252 (exploration rate: 0.010, average score: 191, transitions: 26159)\n",
      "Episode 127: score 197 (exploration rate: 0.010, average score: 199, transitions: 26887)\n",
      "Episode 128: score 221 (exploration rate: 0.010, average score: 199, transitions: 27287)\n",
      "Episode 129: score 267 (exploration rate: 0.010, average score: 200, transitions: 27728)\n",
      "Time for training: 18 minutes\n",
      "Score (average last episodes): 200\n",
      "Score (max): 290\n"
     ]
    },
    {
     "data": {
      "image/png": "[encoded data removed]",
      "text/plain": [
       "<Figure size 640x480 with 1 Axes>"
      ]
     },
     "metadata": {},
     "output_type": "display_data"
    }
   ],
   "source": [
    "environment, number_of_observations, number_of_actions = create_environment()\n",
    "agent = DQN(number_of_observations, number_of_actions)\n",
    "episode = 0\n",
    "start_time = time.perf_counter()\n",
    "total_steps = 1\n",
    "exploration_rate = EXPLORATION_MAX\n",
    "goal_reached = False\n",
    "learn_batch = 0\n",
    "while (episode < MAX_NUMBER_OF_EPISODES_FOR_TRAINING) and not(goal_reached):\n",
    "    episode += 1\n",
    "    score = 0\n",
    "    state, info = environment.reset()\n",
    "    end_episode = False\n",
    "    while not(end_episode):\n",
    "        learn_batch +=1\n",
    "        # Select an action for the current state\n",
    "        action = agent.select(state, exploration_rate)\n",
    "\n",
    "        # Execute the action on the environment\n",
    "        state_next, reward, terminal_state, truncated, info = environment.step(555)\n",
    "\n",
    "        # Store in memory the transition (s,a,r,s')\n",
    "        agent.remember(state, action, reward, state_next, terminal_state)\n",
    "\n",
    "        score += reward\n",
    "\n",
    "        # Learn using a batch of experience stored in memory\n",
    "        if learn_batch == LEARN_BATCH:\n",
    "          agent.learn(True)\n",
    "          learn_batch = 0\n",
    "        else:\n",
    "          agent.learn(False)\n",
    "\n",
    "        # Detect end of episode\n",
    "        if terminal_state or truncated:\n",
    "            end_episode = True\n",
    "            agent.add_score(score)\n",
    "            average_score = agent.average_score(NUMBER_OF_EPISODES_FOR_TESTING_GOAL_SCORE)\n",
    "            if average_score >= GOAL_SCORE: goal_reached = True\n",
    "            print(\"Episode {0:>3}: \".format(episode), end = '')\n",
    "            print(\"score {0:>3} \".format(math.trunc(score)), end = '')\n",
    "            print(\"(exploration rate: %.3f, \" % exploration_rate, end = '')\n",
    "            print(\"average score: {0:>3}, \".format(round(average_score)), end = '')\n",
    "            print(\"transitions: \" + str(agent.memory.current_size) + \")\")\n",
    "        else:\n",
    "            state = state_next\n",
    "            total_steps += 1\n",
    "\n",
    "    # Decrease exploration rate\n",
    "    exploration_rate *= EXPLORATION_DECAY\n",
    "    exploration_rate = max(EXPLORATION_MIN, exploration_rate)\n",
    "\n",
    "print(\"Time for training:\", round((time.perf_counter() - start_time)/60), \"minutes\")\n",
    "print(\"Score (average last episodes):\", round(average_score))\n",
    "print(\"Score (max):\", round(max(agent.scores)))\n",
    "\n",
    "agent.display_scores_graphically()"
   ]
  },
  {
   "cell_type": "markdown",
   "metadata": {
    "id": "vSteJT6ULQVG"
   },
   "source": [
    "\n",
    "## Program for testing\n",
    "\n"
   ]
  },
  {
   "cell_type": "code",
   "execution_count": null,
   "metadata": {
    "colab": {
     "base_uri": "https://localhost:8080/"
    },
    "id": "gIP0LQHGLZPj",
    "outputId": "595ce2c7-39de-4689-be6b-d39b03157c47"
   },
   "outputs": [
    {
     "name": "stdout",
     "output_type": "stream",
     "text": [
      "Episode   1: score 242 \n",
      "Episode   2: score 281 \n",
      "Episode   3: score 222 \n",
      "Episode   4: score 216 \n",
      "Episode   5: score 256 \n",
      "Episode   6: score 175 \n",
      "Episode   7: score  88 \n",
      "Episode   8: score 238 \n",
      "Episode   9: score 185 \n",
      "Episode  10: score 228 \n",
      "Episode  11: score 207 \n",
      "Episode  12: score 234 \n",
      "Episode  13: score 245 \n",
      "Episode  14: score 223 \n",
      "Episode  15: score 239 \n",
      "Episode  16: score 279 \n",
      "Episode  17: score 237 \n",
      "Episode  18: score 240 \n",
      "Episode  19: score 248 \n",
      "Episode  20: score 238 \n",
      "Episode  21: score 171 \n",
      "Episode  22: score 277 \n",
      "Episode  23: score 227 \n",
      "Episode  24: score 109 \n",
      "Episode  25: score 148 \n",
      "Episode  26: score 204 \n",
      "Episode  27: score 227 \n",
      "Episode  28: score 194 \n",
      "Episode  29: score 225 \n",
      "Episode  30: score 236 \n",
      "Time for testing: 0 minutes\n",
      "Score (average): 218\n",
      "Score (max): 281\n"
     ]
    }
   ],
   "source": [
    "agent.delete_scores()\n",
    "episode = 0\n",
    "start_time = time.perf_counter()\n",
    "while (episode < NUMBER_OF_EPISODES_FOR_TESTING):\n",
    "    episode += 1\n",
    "    score = 0\n",
    "    state, info = environment.reset()\n",
    "    end_episode = False\n",
    "    while not(end_episode):\n",
    "        # Select an action for the current state\n",
    "        action = agent.select_greedy_policy(state)\n",
    "\n",
    "        # Execute the action in the environment\n",
    "        state_next, reward, terminal_state, truncated, info = environment.step(action)\n",
    "\n",
    "        score += reward\n",
    "\n",
    "        # Detect end of episode and print\n",
    "        if terminal_state or truncated:\n",
    "            agent.add_score(score)\n",
    "            print(\"Episode {0:>3}: \".format(episode), end = '')\n",
    "            print(\"score {0:>3} \\n\".format(round(score)), end = '')\n",
    "            end_episode = True\n",
    "        else:\n",
    "            state = state_next\n",
    "\n",
    "print(\"Time for testing:\", round((time.perf_counter() - start_time)/60), \"minutes\")\n",
    "print(\"Score (average):\", round(np.mean(agent.scores)))\n",
    "print(\"Score (max):\", round(max(agent.scores)))"
   ]
  },
  {
   "cell_type": "markdown",
   "metadata": {
    "id": "SMNJk3WqcHDP"
   },
   "source": [
    "## Pruebas realizadas\n",
    "---\n",
    "We have kept the following hyperparameters constant:\n",
    "- EXPLORATION_MAX = 1\n",
    "- MAX_NUMBER_OF_EPISODES_FOR_TRAINING = 600\n",
    "- NUMBER_OF_EPISODES_FOR_TESTING = 30\n",
    "- GOAL_SCORE = 200\n",
    "- NUMBER_OF_EPISODES_FOR_TESTING_GOAL_SCORE = 30\n",
    "\n",
    "\n",
    "Discount Factor | Memory Size | Learning Rate | Batch Size | Exploration Min | Exploration Decay | Learn Batch | Observations\n",
    "--------------- | ----------- | ------------- | ---------- | --------------- | ----------------- | ----------- | ------------\n",
    "0.99            | 200000      | 0.01          | 64         | 0.01            | 0.96              | -           | Before implementing the learn batch for the second neural network and the memory change, we ran several tests. In this case, our model did not learn; all results were negative even after training for over an hour. We had to increase the memory size from 100000 (the default in Cartpole) to 200000 to prevent errors from memory overflow.\n",
    "0.99            | 200000      | 0.005         | 64         | 0.01            | 0.9               | -           | We decided to reduce the learning rate and decrease exploration decay to make the model less exploratory. This resulted in even worse performance than before.\n",
    "0.99            | 200000      | 0.005         | 64         | 0.3             | 0.9               | -           | To maintain a minimum level of exploration, we increased the exploration min, but the results were still poor. As this approach was not yielding good results, we decided to change our strategy.\n",
    "0.99            | 100000      | 0.0005        | 32         | 0.001           | 0.95              | 10          | We implemented the learn batch as explained at the beginning of the notebook, updating the model every 10 transitions. However, the learning rate was too high, and frequent weight updates made convergence challenging.\n",
    "0.99            | 100000      | 0.0002        | 64         | 0.01            | 0.96              | 4           | We used the learn batch mechanism to update the model every 4 transitions, allowing us to reduce memory size to 100000. The model learned successfully, although slowly, taking around 1 hour, showing a marked improvement over previous models.\n",
    "0.99            | 100000      | 0.0005        | 32         | 0.001           | 0.95              | 100         | We increased the iterations needed for target network weight updates while slightly increasing the learning rate to speed up training and convergence. The model was successfully trained in approximately 30 minutes.\n",
    "0.99            | 100000      | 0.0001        | 64         | 0.01            | 0.96              | 4           | We adjusted the learning rate to reduce training time, testing values like 0.00025 and 0.0005, and found the best results with 0.0001, achieving the target in about 40 minutes.\n",
    "0.99            | 100000      | 0.0001        | 64         | 0.01            | 0.96              | 32          | To improve our results, we increased the batch size and learn batch to reduce learning frequency. We tested batch sizes of 128 and 264 and a learn batch of 64, but these values led to unstable oscillations in the final graph. The best results were obtained with 64 and 32, respectively.\n",
    "0.99            | 100000      | 0.0001        | 64         | 0.01            | 0.95              | 32          | We reduced the exploration decay to make the model more exploratory. With a slight adjustment to 0.95, we observed improved performance. We kept the exploration min the same, as maintaining a minimum level of exploration proved beneficial.\n",
    "0.99            | 50000       | 0.0001        | 64         | 0.01            | 0.95              | 32          | Finally, we made a crucial change to memory size as explained at the beginning of the notebook. This memory update significantly improved the model's performance.\n",
    "```\n"
   ]
  }
 ],
 "metadata": {
  "colab": {
   "provenance": []
  },
  "kernelspec": {
   "display_name": "Python 3",
   "name": "python3"
  }
 },
 "nbformat": 4,
 "nbformat_minor": 0
}
